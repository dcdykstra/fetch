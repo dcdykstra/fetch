{
 "cells": [
  {
   "cell_type": "code",
   "execution_count": 1,
   "metadata": {},
   "outputs": [],
   "source": [
    "import duckdb"
   ]
  },
  {
   "cell_type": "code",
   "execution_count": 2,
   "metadata": {},
   "outputs": [],
   "source": [
    "conn = duckdb.connect('../fetch.db')"
   ]
  },
  {
   "cell_type": "markdown",
   "metadata": {},
   "source": [
    "# Data Quality findings from part 2 process\n",
    "### Receipts findings\n",
    "+ Each receipt item does not have an individual pointsEarned value\n",
    "+ RewardsReceiptItemList is will not always be the same size as purchasedItemCount\n",
    "+ Many columns in the receiptitemslist have the same data values across the whole row\n",
    "\n",
    "### Brands findings\n",
    "+ Some barcodes are repeated\n",
    "+ Some brand codes are repeated"
   ]
  },
  {
   "cell_type": "markdown",
   "metadata": {},
   "source": [
    "# Data Quality in 'What are the top 5 brands by receipts scanned for most recent month?'\n",
    "+ What does this mean?\n",
    "    + Top 5 by number of receipts scanned with a specific brand code\n",
    "    + Top 5 by number of receipt items scanned with a specific brand code"
   ]
  },
  {
   "cell_type": "markdown",
   "metadata": {},
   "source": [
    "### ISSUE 1: Are we really trying to understand the most recent month?\n",
    "+ The max date_scanned is from March 1st\n",
    "+ Looking at counts of _receipt_ids by month scanned, it seems this exercise was meant to compare February 2021 to January 2021"
   ]
  },
  {
   "cell_type": "code",
   "execution_count": 3,
   "metadata": {},
   "outputs": [
    {
     "name": "stdout",
     "output_type": "stream",
     "text": [
      "┌─────────────────────────┐\n",
      "│    max(date_scanned)    │\n",
      "│        timestamp        │\n",
      "├─────────────────────────┤\n",
      "│ 2021-03-01 18:17:34.772 │\n",
      "└─────────────────────────┘\n",
      "\n",
      "\n",
      "Unique Receipts Scanned by Month\n",
      "┌───────────────┬─────────────────────────────┐\n",
      "│ month_scanned │ count(DISTINCT _receipt_id) │\n",
      "│     date      │            int64            │\n",
      "├───────────────┼─────────────────────────────┤\n",
      "│ 2021-03-01    │                          23 │\n",
      "│ 2021-02-01    │                         448 │\n",
      "│ 2021-01-01    │                         640 │\n",
      "│ 2020-11-01    │                           6 │\n",
      "│ 2020-10-01    │                           2 │\n",
      "└───────────────┴─────────────────────────────┘\n",
      "\n",
      "\n",
      "Unique Receipts and Receipt Items Scanned by Month (Only receipts with receipt_items included)\n",
      "┌───────────────┬───────────────────────────────────────────┬──────────────────────────────────┐\n",
      "│ month_scanned │ count(DISTINCT receipt_items._receipt_id) │ count(DISTINCT _receipt_item_id) │\n",
      "│     date      │                   int64                   │              int64               │\n",
      "├───────────────┼───────────────────────────────────────────┼──────────────────────────────────┤\n",
      "│ 2021-03-01    │                                        12 │                               24 │\n",
      "│ 2021-02-01    │                                       120 │                              192 │\n",
      "│ 2021-01-01    │                                       539 │                             6655 │\n",
      "│ 2020-11-01    │                                         6 │                               54 │\n",
      "│ 2020-10-01    │                                         2 │                               16 │\n",
      "└───────────────┴───────────────────────────────────────────┴──────────────────────────────────┘\n",
      "\n"
     ]
    }
   ],
   "source": [
    "conn.sql(\"\"\"\n",
    "         SELECT MAX(date_scanned) FROM receipts\n",
    "         \"\"\").show()\n",
    "print(\"\\nUnique Receipts Scanned by Month\")\n",
    "conn.sql(\"\"\"\n",
    "         SELECT DATE_TRUNC('month', date_scanned) as month_scanned, COUNT(DISTINCT _receipt_id) FROM receipts\n",
    "         GROUP BY month_scanned\n",
    "         ORDER BY month_scanned DESC\n",
    "         \"\"\").show()\n",
    "print(\"\\nUnique Receipts and Receipt Items Scanned by Month (Only receipts with receipt_items included)\")\n",
    "conn.sql(\"\"\"\n",
    "         WITH months_scanned AS (\n",
    "         SELECT receipts._receipt_id, DATE_TRUNC('month', date_scanned) as month_scanned FROM receipts\n",
    "         )\n",
    "         SELECT month_scanned, COUNT(DISTINCT receipt_items._receipt_id), COUNT(DISTINCT _receipt_item_id) \n",
    "         FROM receipt_items\n",
    "         LEFT JOIN months_scanned ON receipt_items._receipt_id = months_scanned._receipt_id\n",
    "         GROUP BY month_scanned\n",
    "         ORDER BY month_scanned DESC\n",
    "         \"\"\").show()"
   ]
  },
  {
   "cell_type": "markdown",
   "metadata": {},
   "source": [
    "### ISSUE 2: Most Receipt Items are missing brand codes"
   ]
  },
  {
   "cell_type": "code",
   "execution_count": 4,
   "metadata": {},
   "outputs": [
    {
     "name": "stdout",
     "output_type": "stream",
     "text": [
      "Lots of missingness (62.54%) in brand_code information for each rewards receipt item; unreliable\n",
      "┌────────────────┬─────────────────┐\n",
      "│ has_brand_code │ N_Receipt_Items │\n",
      "│    boolean     │      int64      │\n",
      "├────────────────┼─────────────────┤\n",
      "│ false          │            4341 │\n",
      "│ true           │            2600 │\n",
      "└────────────────┴─────────────────┘\n",
      "\n"
     ]
    }
   ],
   "source": [
    "print(\n",
    "    f\"Lots of missingness ({round((1-(2600/(2600+4341)))*100, 2)}%) in brand_code information for each rewards receipt item; unreliable\"\n",
    ")\n",
    "conn.sql(\n",
    "    \"\"\"\n",
    "    SELECT CASE WHEN brand_code IS NOT NULL THEN True ELSE False END as has_brand_code, COUNT(DISTINCT _receipt_item_id) as N_Receipt_Items\n",
    "    FROM receipt_items \n",
    "    GROUP BY has_brand_code\n",
    "    \"\"\"\n",
    ").show()"
   ]
  },
  {
   "cell_type": "markdown",
   "metadata": {},
   "source": [
    "### Are we able to merge brands table from barcodes?\n",
    "+ Yes but, we would only pull in values for 2 items"
   ]
  },
  {
   "cell_type": "code",
   "execution_count": 5,
   "metadata": {},
   "outputs": [
    {
     "name": "stdout",
     "output_type": "stream",
     "text": [
      "Unique receipt_items barcodes 568\n",
      "Unique brands barcodes 1160\n",
      "There are 552 barcodes in rewards items that do not exist in the brands table\n"
     ]
    },
    {
     "data": {
      "text/plain": [
       "┌──────────────┬────────────────────┬───────────────────┬───────────────────┐\n",
       "│   barcode    │ receipt_brand_code │ brands_brand_code │ brands_brand_name │\n",
       "│   varchar    │      varchar       │      varchar      │      varchar      │\n",
       "├──────────────┼────────────────────┼───────────────────┼───────────────────┤\n",
       "│ 511111101451 │ NULL               │ QUAKER            │ Quaker            │\n",
       "│ 511111602118 │ NULL               │ JELL-O            │ Jell-O            │\n",
       "└──────────────┴────────────────────┴───────────────────┴───────────────────┘"
      ]
     },
     "execution_count": 5,
     "metadata": {},
     "output_type": "execute_result"
    }
   ],
   "source": [
    "rewards_barcodes = set(\n",
    "    conn.sql(\n",
    "        \"SELECT DISTINCT barcode FROM receipt_items WHERE barcode IS NOT NULL\"\n",
    "    ).df()[\"barcode\"]\n",
    ")\n",
    "print(f\"Unique receipt_items barcodes {len(rewards_barcodes)}\")\n",
    "brands_barcodes = set(\n",
    "    conn.sql(\"SELECT DISTINCT barcode FROM brands WHERE barcode IS NOT NULL\").df()[\n",
    "        \"barcode\"\n",
    "    ]\n",
    ")\n",
    "print(f\"Unique brands barcodes {len(brands_barcodes)}\")\n",
    "\n",
    "print(\n",
    "    f\"There are {len(rewards_barcodes - brands_barcodes)} barcodes in rewards items that do not exist in the brands table\"\n",
    ")\n",
    "conn.sql(\"\"\"\n",
    "         WITH brands_barcodes AS (\n",
    "            SELECT brands.barcode, brand_name, brands.brand_code FROM brands\n",
    "         )\n",
    "         SELECT DISTINCT receipt_items.barcode as barcode, receipt_items.brand_code as receipt_brand_code, brands_barcodes.brand_code as brands_brand_code, brands_barcodes.brand_name as brands_brand_name\n",
    "         FROM receipt_items\n",
    "         INNER JOIN brands_barcodes ON receipt_items.barcode = brands_barcodes.barcode\n",
    "         WHERE receipt_brand_code IS NULL\n",
    "         ORDER BY barcode\n",
    "         \"\"\")"
   ]
  },
  {
   "cell_type": "markdown",
   "metadata": {},
   "source": [
    "### Re-answering What are the top 5 brands by receipts scanned for most recent month?\n",
    "+ **New assumptions**\n",
    "    1) Top 5 brands by receipts scanned for February 2021\n",
    "    2) Compare Top 5 brands against January 2021\n",
    "    3) Merge brand_codes from brands table using barcodes\n",
    "\n",
    "##### **The top brands we have codes for are BRAND, MISSION, and VIVA for the month of February 2021**\n",
    "+ BRAND was in 3 Receipts\n",
    "+ MISSION was in 2 Receipts\n",
    "+ VIVA was in 1 Receipt\n",
    "+ There were 115 receipts that contained items with no associated brand"
   ]
  },
  {
   "cell_type": "code",
   "execution_count": 6,
   "metadata": {},
   "outputs": [
    {
     "name": "stdout",
     "output_type": "stream",
     "text": [
      "Top 5 Brands by receipts scanned and receipt items scanned\n",
      "February 2021\n"
     ]
    },
    {
     "data": {
      "text/plain": [
       "┌────────────┬────────────┬─────────────────┐\n",
       "│ brand_code │ N_Receipts │ N_Receipt_Items │\n",
       "│  varchar   │   int64    │      int64      │\n",
       "├────────────┼────────────┼─────────────────┤\n",
       "│ NULL       │        115 │             186 │\n",
       "│ BRAND      │          3 │               3 │\n",
       "│ MISSION    │          2 │               2 │\n",
       "│ VIVA       │          1 │               1 │\n",
       "└────────────┴────────────┴─────────────────┘"
      ]
     },
     "execution_count": 6,
     "metadata": {},
     "output_type": "execute_result"
    }
   ],
   "source": [
    "print(\"Top 5 Brands by receipts scanned and receipt items scanned\")\n",
    "print(\"February 2021\")\n",
    "conn.sql(\"\"\"\n",
    "    WITH receipt_dates AS (\n",
    "        SELECT _receipt_id, date_scanned FROM receipts     \n",
    "    ),\n",
    "    brand_codes AS (\n",
    "        SELECT brand_code, barcode FROM brands     \n",
    "    ),\n",
    "    ranked_receipt_items AS (\n",
    "        SELECT\n",
    "            receipt_items._receipt_id,\n",
    "            receipt_items._receipt_item_id,\n",
    "            COALESCE(receipt_items.brand_code, brand_codes.brand_code) as brand_code,\n",
    "            date_scanned,\n",
    "            DATE_TRUNC('month', date_scanned)::date as ym,\n",
    "            DENSE_RANK() OVER (ORDER BY ym DESC) as rank\n",
    "        FROM receipt_items\n",
    "        LEFT JOIN receipt_dates ON receipt_items._receipt_id = receipt_dates._receipt_id\n",
    "        LEFT JOIN brand_codes ON receipt_items.barcode = brand_codes.barcode\n",
    "        ORDER BY date_scanned DESC\n",
    "    )\n",
    "    SELECT \n",
    "        brand_code,\n",
    "        COUNT(DISTINCT _receipt_id) AS N_Receipts,\n",
    "        COUNT(DISTINCT _receipt_item_id) AS N_Receipt_Items\n",
    "    FROM ranked_receipt_items\n",
    "    WHERE rank = 2\n",
    "    GROUP BY brand_code\n",
    "    ORDER BY N_Receipts DESC\n",
    ";\"\"\")"
   ]
  },
  {
   "cell_type": "markdown",
   "metadata": {},
   "source": [
    "### Re-answering How does the ranking of the top 5 brands by receipts scanned for the recent month compare to the ranking for the previous month?\n",
    "##### **Comparing February 2021 to January 2021, we can see there was a sharp drop in the amount of receipts scanned as well as receipt items scanned going from 6655 -> 192 items from January to February**\n",
    "##### **While showing ties, the top brands by number of receipts containing a brand code for the month of January 2021 are Ben and Jerrys, Pepsi, Folgers, Kraft, Kellogg's, Kleenex, Borden, and Dole**\n",
    "+ Ben and Jerrys was in 32 Receipts\n",
    "+ Pepsi was in 23 Receipts\n",
    "+ Folgers was in 23 Receipts\n",
    "+ Kraft was in 22 Receipts\n",
    "+ Kellogg's was in 22 Receipts\n",
    "+ Kleenex was in 21 Receipts\n",
    "+ Borden was in 21 Receipts\n",
    "+ Dole was in 20 Receipts\n",
    "+ There were 504 receipts that contained items with no associated brand\n"
   ]
  },
  {
   "cell_type": "code",
   "execution_count": 7,
   "metadata": {},
   "outputs": [
    {
     "name": "stdout",
     "output_type": "stream",
     "text": [
      "Top 5 Brands by receipts scanned and receipt items scanned\n",
      "January 2021\n"
     ]
    },
    {
     "data": {
      "text/plain": [
       "┌────────────────┬────────────┬─────────────────┬─────────────────┐\n",
       "│   brand_code   │ N_Receipts │ N_Receipt_Items │ N_Receipts_Rank │\n",
       "│    varchar     │   int64    │      int64      │      int64      │\n",
       "├────────────────┼────────────┼─────────────────┼─────────────────┤\n",
       "│ NULL           │        504 │            4059 │               1 │\n",
       "│ BEN AND JERRYS │         32 │             180 │               2 │\n",
       "│ PEPSI          │         23 │              93 │               3 │\n",
       "│ FOLGERS        │         23 │              38 │               3 │\n",
       "│ KRAFT          │         22 │              60 │               4 │\n",
       "│ KELLOGG'S      │         22 │              27 │               4 │\n",
       "│ KLEENEX        │         21 │              88 │               5 │\n",
       "│ BORDEN         │         20 │              71 │               6 │\n",
       "│ DOLE           │         20 │              53 │               6 │\n",
       "└────────────────┴────────────┴─────────────────┴─────────────────┘"
      ]
     },
     "execution_count": 7,
     "metadata": {},
     "output_type": "execute_result"
    }
   ],
   "source": [
    "print(\"Top 5 Brands by receipts scanned and receipt items scanned\")\n",
    "print(\"January 2021\")\n",
    "conn.sql(\"\"\"\n",
    "    WITH receipt_dates AS (\n",
    "        SELECT _receipt_id, date_scanned FROM receipts     \n",
    "    ),\n",
    "    brand_codes AS (\n",
    "        SELECT brand_code, barcode FROM brands     \n",
    "    ),\n",
    "    ranked_receipt_items AS (\n",
    "        SELECT\n",
    "            receipt_items._receipt_id,\n",
    "            receipt_items._receipt_item_id,\n",
    "            COALESCE(receipt_items.brand_code, brand_codes.brand_code) as brand_code,\n",
    "            date_scanned,\n",
    "            DATE_TRUNC('month', date_scanned)::date as ym,\n",
    "            DENSE_RANK() OVER (ORDER BY ym DESC) as rank\n",
    "        FROM receipt_items\n",
    "        LEFT JOIN receipt_dates ON receipt_items._receipt_id = receipt_dates._receipt_id\n",
    "        LEFT JOIN brand_codes ON receipt_items.barcode = brand_codes.barcode\n",
    "        ORDER BY date_scanned DESC\n",
    "    ),\n",
    "    brands_by_receipts AS (\n",
    "        SELECT \n",
    "            brand_code,\n",
    "            COUNT(DISTINCT _receipt_id) AS N_Receipts,\n",
    "            COUNT(DISTINCT _receipt_item_id) AS N_Receipt_Items,\n",
    "            DENSE_RANK() OVER (ORDER BY N_Receipts DESC) as N_Receipts_Rank\n",
    "        FROM ranked_receipt_items\n",
    "        WHERE rank = 3\n",
    "        GROUP BY brand_code\n",
    "        ORDER BY N_Receipts DESC\n",
    "    )\n",
    "    SELECT * FROM brands_by_receipts\n",
    "    WHERE N_Receipts_Rank <=6\n",
    "\n",
    ";\"\"\")"
   ]
  },
  {
   "cell_type": "code",
   "execution_count": 8,
   "metadata": {},
   "outputs": [],
   "source": [
    "conn.close()"
   ]
  }
 ],
 "metadata": {
  "kernelspec": {
   "display_name": ".venv",
   "language": "python",
   "name": "python3"
  },
  "language_info": {
   "codemirror_mode": {
    "name": "ipython",
    "version": 3
   },
   "file_extension": ".py",
   "mimetype": "text/x-python",
   "name": "python",
   "nbconvert_exporter": "python",
   "pygments_lexer": "ipython3",
   "version": "3.11.5"
  }
 },
 "nbformat": 4,
 "nbformat_minor": 2
}
