{
 "cells": [
  {
   "cell_type": "markdown",
   "metadata": {},
   "source": [
    "# Investigating shape of unstructured JSON data\n",
    "+ Looking through nested JSONs for hidden keys prior to modeling"
   ]
  },
  {
   "cell_type": "code",
   "execution_count": 1,
   "metadata": {},
   "outputs": [],
   "source": [
    "import json"
   ]
  },
  {
   "cell_type": "code",
   "execution_count": 2,
   "metadata": {},
   "outputs": [],
   "source": [
    "brands = []\n",
    "with open('../data/brands.json') as f:\n",
    "    for line in f:\n",
    "        brands.append(json.loads(line))\n",
    "receipts = []\n",
    "with open('../data/receipts.json') as f:\n",
    "    for line in f:\n",
    "        receipts.append(json.loads(line))\n",
    "users = []\n",
    "with open('../data/users.json') as f:\n",
    "    for line in f:\n",
    "        users.append(json.loads(line))"
   ]
  },
  {
   "cell_type": "code",
   "execution_count": 3,
   "metadata": {},
   "outputs": [],
   "source": [
    "def getKeys(jsonList: list) -> set:\n",
    "    keys = [set(row.keys()) for row in jsonList]\n",
    "    keys = set().union(*keys)\n",
    "    \n",
    "    print(f\"{keys=}\")\n",
    "    return keys\n",
    "\n",
    "def getNestedKeysTypes(jsonList: list) -> dict:\n",
    "    keys = getKeys(jsonList)\n",
    "    nestedKeys = dict()\n",
    "    for i in keys:\n",
    "        # Exclude NoneType as a type\n",
    "        keysTypes = [type(row.get(i)) for row in jsonList if type(row.get(i)) is not type(None)]\n",
    "        keysTypes = list(set(keysTypes))\n",
    "        assert len(keysTypes) == 1, f\"Multiple types for column {i}\"\n",
    "\n",
    "        if (dict in keysTypes) | (list in keysTypes):\n",
    "            nestedKeys[i] = keysTypes[0]\n",
    "            \n",
    "    print(f\"{nestedKeys=}\")\n",
    "    return nestedKeys\n",
    "\n",
    "def getNestedKeysKeys(jsonList: list) -> dict:\n",
    "    out = dict()\n",
    "    nestedKeys = getNestedKeysTypes(jsonList)\n",
    "    for key, type in nestedKeys.items():\n",
    "        uniqueNestedKeysKeys = set()\n",
    "        nestedKeyList = [row.get(key, dict()) for row in jsonList]\n",
    "\n",
    "        # Nested keys are either type list or dict\n",
    "        if type == list:\n",
    "            for listItem in nestedKeyList:\n",
    "                if listItem:\n",
    "                    nestedKeysKeys = [item.keys() for item in listItem]\n",
    "                    uniqueNestedKeysKeys = uniqueNestedKeysKeys.union(*nestedKeysKeys)\n",
    "            \n",
    "        elif type == dict:\n",
    "            nestedKeysKeys = [item.keys() for item in nestedKeyList]\n",
    "            uniqueNestedKeysKeys = uniqueNestedKeysKeys.union(*nestedKeysKeys)\n",
    "\n",
    "        print(f\"[ {key} ] keys: {uniqueNestedKeysKeys}\")\n",
    "        out[key] = uniqueNestedKeysKeys\n",
    "    return out"
   ]
  },
  {
   "cell_type": "code",
   "execution_count": 4,
   "metadata": {},
   "outputs": [
    {
     "name": "stdout",
     "output_type": "stream",
     "text": [
      "BRANDS\n",
      "keys={'category', 'topBrand', 'categoryCode', 'barcode', '_id', 'brandCode', 'cpg', 'name'}\n",
      "nestedKeys={'_id': <class 'dict'>, 'cpg': <class 'dict'>}\n",
      "[ _id ] keys: {'$oid'}\n",
      "[ cpg ] keys: {'$id', '$ref'}\n",
      "\n",
      "USERS\n",
      "keys={'lastLogin', 'active', '_id', 'createdDate', 'signUpSource', 'role', 'state'}\n",
      "nestedKeys={'lastLogin': <class 'dict'>, '_id': <class 'dict'>, 'createdDate': <class 'dict'>}\n",
      "[ lastLogin ] keys: {'$date'}\n",
      "[ _id ] keys: {'$oid'}\n",
      "[ createdDate ] keys: {'$date'}\n",
      "\n",
      "RECEIPTS\n",
      "keys={'finishedDate', 'purchasedItemCount', 'modifyDate', '_id', 'pointsAwardedDate', 'bonusPointsEarned', 'purchaseDate', 'rewardsReceiptStatus', 'totalSpent', 'userId', 'createDate', 'bonusPointsEarnedReason', 'rewardsReceiptItemList', 'pointsEarned', 'dateScanned'}\n",
      "nestedKeys={'finishedDate': <class 'dict'>, 'modifyDate': <class 'dict'>, '_id': <class 'dict'>, 'pointsAwardedDate': <class 'dict'>, 'purchaseDate': <class 'dict'>, 'createDate': <class 'dict'>, 'rewardsReceiptItemList': <class 'list'>, 'dateScanned': <class 'dict'>}\n",
      "[ finishedDate ] keys: {'$date'}\n",
      "[ modifyDate ] keys: {'$date'}\n",
      "[ _id ] keys: {'$oid'}\n",
      "[ pointsAwardedDate ] keys: {'$date'}\n",
      "[ purchaseDate ] keys: {'$date'}\n",
      "[ createDate ] keys: {'$date'}\n",
      "[ rewardsReceiptItemList ] keys: {'userFlaggedDescription', 'needsFetchReview', 'quantityPurchased', 'userFlaggedQuantity', 'rewardsGroup', 'rewardsProductPartnerId', 'competitorRewardsGroup', 'competitiveProduct', 'finalPrice', 'originalMetaBriteBarcode', 'userFlaggedNewItem', 'itemNumber', 'preventTargetGapPoints', 'itemPrice', 'originalMetaBriteQuantityPurchased', 'metabriteCampaignId', 'brandCode', 'pointsEarned', 'needsFetchReviewReason', 'pointsPayerId', 'barcode', 'priceAfterCoupon', 'userFlaggedBarcode', 'pointsNotAwardedReason', 'deleted', 'targetPrice', 'userFlaggedPrice', 'originalMetaBriteItemPrice', 'originalReceiptItemText', 'discountedItemPrice', 'partnerItemId', 'originalMetaBriteDescription', 'description', 'originalFinalPrice'}\n",
      "[ dateScanned ] keys: {'$date'}\n"
     ]
    }
   ],
   "source": [
    "print(\"BRANDS\")\n",
    "brandNestedKeysKeys = getNestedKeysKeys(brands)\n",
    "\n",
    "print(\"\\nUSERS\")\n",
    "userNestedKeysKeys = getNestedKeysKeys(users)\n",
    "\n",
    "print(\"\\nRECEIPTS\")\n",
    "receiptNestedKeysKeys = getNestedKeysKeys(receipts)"
   ]
  }
 ],
 "metadata": {
  "kernelspec": {
   "display_name": ".venv",
   "language": "python",
   "name": "python3"
  },
  "language_info": {
   "codemirror_mode": {
    "name": "ipython",
    "version": 3
   },
   "file_extension": ".py",
   "mimetype": "text/x-python",
   "name": "python",
   "nbconvert_exporter": "python",
   "pygments_lexer": "ipython3",
   "version": "3.11.5"
  }
 },
 "nbformat": 4,
 "nbformat_minor": 2
}
