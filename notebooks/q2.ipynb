{
 "cells": [
  {
   "cell_type": "code",
   "execution_count": 1,
   "metadata": {},
   "outputs": [],
   "source": [
    "import duckdb"
   ]
  },
  {
   "cell_type": "code",
   "execution_count": 2,
   "metadata": {},
   "outputs": [],
   "source": [
    "conn = duckdb.connect('../fetch.db')"
   ]
  },
  {
   "cell_type": "markdown",
   "metadata": {},
   "source": [
    "# What are the top 5 brands by receipts scanned for most recent month?\n",
    "+ Note\n",
    "    + Top 5 by number of receipts scanned with a specific brand code\n",
    "        + N_Receipts may double count receipts as brand codes are associated with items not receipts\n",
    "    + Top 5 by number of receipt items scanned with a specific brand code\n",
    "\n",
    "##### **There are no brands with receipt items for the month of March 2021**\n",
    "+ There were 12 receipts that contained items with no associated brand (24 items)\n",
    "\n"
   ]
  },
  {
   "cell_type": "code",
   "execution_count": 3,
   "metadata": {},
   "outputs": [
    {
     "name": "stdout",
     "output_type": "stream",
     "text": [
      "Top 5 Brands by receipts scanned and receipt items scanned\n",
      "March 2021\n"
     ]
    },
    {
     "data": {
      "text/plain": [
       "┌────────────┬────────────┬─────────────────┐\n",
       "│ brand_code │ N_Receipts │ N_Receipt_Items │\n",
       "│  varchar   │   int64    │      int64      │\n",
       "├────────────┼────────────┼─────────────────┤\n",
       "│ NULL       │         12 │              24 │\n",
       "└────────────┴────────────┴─────────────────┘"
      ]
     },
     "execution_count": 3,
     "metadata": {},
     "output_type": "execute_result"
    }
   ],
   "source": [
    "print(\"Top 5 Brands by receipts scanned and receipt items scanned\")\n",
    "print(\"March 2021\")\n",
    "conn.sql(\"\"\"\n",
    "    WITH receipt_dates AS (\n",
    "        SELECT _receipt_id, date_scanned FROM receipts     \n",
    "    ),\n",
    "    ranked_receipt_items AS (\n",
    "        SELECT\n",
    "            receipt_items._receipt_id,\n",
    "            receipt_items._receipt_item_id,\n",
    "            receipt_items.brand_code,\n",
    "            date_scanned,\n",
    "            DATE_TRUNC('month', date_scanned)::date as ym,\n",
    "            DENSE_RANK() OVER (ORDER BY ym DESC) as rank\n",
    "        FROM receipt_items\n",
    "        LEFT JOIN receipt_dates ON receipt_items._receipt_id = receipt_dates._receipt_id\n",
    "        ORDER BY date_scanned DESC\n",
    "    )\n",
    "    SELECT \n",
    "        brand_code,\n",
    "        COUNT(DISTINCT _receipt_id) AS N_Receipts,\n",
    "        COUNT(DISTINCT _receipt_item_id) AS N_Receipt_Items\n",
    "    FROM ranked_receipt_items\n",
    "    WHERE rank = 1\n",
    "    GROUP BY brand_code\n",
    "    ORDER BY N_Receipts DESC\n",
    ";\"\"\")"
   ]
  },
  {
   "cell_type": "markdown",
   "metadata": {},
   "source": [
    "# How does the ranking of the top 5 brands by receipts scanned for the recent month compare to the ranking for the previous month?\n",
    "##### **Comparing March 2021 to February 2021, we can see we finally have values for brands which are not null**\n",
    "##### **The top brands we have codes for are BRAND, MISSION, and VIVA for the month of February 2021**\n",
    "+ BRAND was in 3 Receipts (3 items)\n",
    "+ MISSION was in 2 Receipts (2 items)\n",
    "+ VIVA was in 1 Receipt (1 item)\n",
    "+ There were 115 receipts that contained items with no associated brand (186 items)"
   ]
  },
  {
   "cell_type": "code",
   "execution_count": 4,
   "metadata": {},
   "outputs": [
    {
     "name": "stdout",
     "output_type": "stream",
     "text": [
      "Top 5 Brands by receipts scanned and receipt items scanned\n",
      "February 2021\n"
     ]
    },
    {
     "data": {
      "text/plain": [
       "┌────────────┬────────────┬─────────────────┐\n",
       "│ brand_code │ N_Receipts │ N_Receipt_Items │\n",
       "│  varchar   │   int64    │      int64      │\n",
       "├────────────┼────────────┼─────────────────┤\n",
       "│ NULL       │        115 │             186 │\n",
       "│ BRAND      │          3 │               3 │\n",
       "│ MISSION    │          2 │               2 │\n",
       "│ VIVA       │          1 │               1 │\n",
       "└────────────┴────────────┴─────────────────┘"
      ]
     },
     "execution_count": 4,
     "metadata": {},
     "output_type": "execute_result"
    }
   ],
   "source": [
    "print(\"Top 5 Brands by receipts scanned and receipt items scanned\")\n",
    "print(\"February 2021\")\n",
    "conn.sql(\"\"\"\n",
    "    WITH receipt_dates AS (\n",
    "        SELECT _receipt_id, date_scanned FROM receipts     \n",
    "    ),\n",
    "    ranked_receipt_items AS (\n",
    "        SELECT\n",
    "            receipt_items._receipt_id,\n",
    "            receipt_items._receipt_item_id,\n",
    "            receipt_items.brand_code,\n",
    "            date_scanned,\n",
    "            DATE_TRUNC('month', date_scanned)::date as ym,\n",
    "            DENSE_RANK() OVER (ORDER BY ym DESC) as rank\n",
    "        FROM receipt_items\n",
    "        LEFT JOIN receipt_dates ON receipt_items._receipt_id = receipt_dates._receipt_id\n",
    "        ORDER BY date_scanned DESC\n",
    "    )\n",
    "    SELECT \n",
    "        brand_code,\n",
    "        COUNT(DISTINCT _receipt_id) AS N_Receipts,\n",
    "        COUNT(DISTINCT _receipt_item_id) AS N_Receipt_Items\n",
    "    FROM ranked_receipt_items\n",
    "    WHERE rank = 2\n",
    "    GROUP BY brand_code\n",
    "    ORDER BY N_Receipts DESC\n",
    ";\"\"\")"
   ]
  },
  {
   "cell_type": "markdown",
   "metadata": {},
   "source": [
    "# When considering average spend from receipts with 'rewardsReceiptStatus’ of ‘Accepted’ or ‘Rejected’, which is greater?\n",
    "##### **The average spend is higher for FINISHED (Accepted) receipts.**\n",
    "+ Nothing named 'Accepted', assuming FINISHED = 'Accepted'\n"
   ]
  },
  {
   "cell_type": "code",
   "execution_count": 5,
   "metadata": {},
   "outputs": [
    {
     "name": "stdout",
     "output_type": "stream",
     "text": [
      "┌───────────────┬────────────────────────┐\n",
      "│  total_spent  │ rewards_receipt_status │\n",
      "│ decimal(10,2) │        varchar         │\n",
      "├───────────────┴────────────────────────┤\n",
      "│                 0 rows                 │\n",
      "└────────────────────────────────────────┘\n",
      "\n"
     ]
    },
    {
     "data": {
      "text/plain": [
       "┌────────────────────────┐\n",
       "│ rewards_receipt_status │\n",
       "│        varchar         │\n",
       "├────────────────────────┤\n",
       "│ FINISHED               │\n",
       "│ SUBMITTED              │\n",
       "│ PENDING                │\n",
       "│ FLAGGED                │\n",
       "│ REJECTED               │\n",
       "└────────────────────────┘"
      ]
     },
     "execution_count": 5,
     "metadata": {},
     "output_type": "execute_result"
    }
   ],
   "source": [
    "conn.sql(\"\"\"\n",
    "         SELECT total_spent, rewards_receipt_status FROM receipts\n",
    "         WHERE (rewards_receipt_status = 'FINISHED'\n",
    "         OR rewards_receipt_status = 'REJECTED')\n",
    "         AND total_spent IS NULL\n",
    "         \"\"\"\n",
    "         ).show()\n",
    "conn.sql(\"\"\"\n",
    "         SELECT DISTINCT rewards_receipt_status FROM receipts\n",
    "         \"\"\")"
   ]
  },
  {
   "cell_type": "code",
   "execution_count": 6,
   "metadata": {},
   "outputs": [
    {
     "name": "stdout",
     "output_type": "stream",
     "text": [
      "The average spend is higher for FINISHED (Accepted) receipts.\n"
     ]
    },
    {
     "data": {
      "text/plain": [
       "┌───────────────────┬────────────────────────┐\n",
       "│   average_spend   │ rewards_receipt_status │\n",
       "│      double       │        varchar         │\n",
       "├───────────────────┼────────────────────────┤\n",
       "│ 80.85430501930502 │ FINISHED               │\n",
       "│ 23.32605633802817 │ REJECTED               │\n",
       "└───────────────────┴────────────────────────┘"
      ]
     },
     "execution_count": 6,
     "metadata": {},
     "output_type": "execute_result"
    }
   ],
   "source": [
    "print(f\"The average spend is higher for FINISHED (Accepted) receipts.\")\n",
    "conn.sql(\"\"\"\n",
    "         SELECT AVG(total_spent) as average_spend, rewards_receipt_status \n",
    "         FROM receipts\n",
    "         WHERE rewards_receipt_status = 'FINISHED'\n",
    "         OR rewards_receipt_status = 'REJECTED'\n",
    "         GROUP BY rewards_receipt_status\n",
    "         ORDER BY average_spend DESC\n",
    "         \"\"\"\n",
    "         )"
   ]
  },
  {
   "cell_type": "markdown",
   "metadata": {},
   "source": [
    "# When considering total number of items purchased from receipts with 'rewardsReceiptStatus’ of ‘Accepted’ or ‘Rejected’, which is greater?\n",
    "##### **The total number of items purchased is higher for FINISHED (Accepted) receipts.**\n",
    "+ Nothing named 'Accepted', assuming FINISHED = 'Accepted'\n",
    "+ Assuming total number of items purchased refers to purchasedItemCount in receipts.json and not total number of items in the receipts rewardsReceiptItemsList\n",
    "    + Length of rewards receipt item list is not always equivalent to the total amount of items purchased in the receipt"
   ]
  },
  {
   "cell_type": "code",
   "execution_count": 7,
   "metadata": {},
   "outputs": [
    {
     "name": "stdout",
     "output_type": "stream",
     "text": [
      "┌──────────────────────┬────────────────────────┐\n",
      "│ purchased_item_count │ rewards_receipt_status │\n",
      "│        int32         │        varchar         │\n",
      "├──────────────────────┴────────────────────────┤\n",
      "│                    0 rows                     │\n",
      "└───────────────────────────────────────────────┘\n",
      "\n"
     ]
    }
   ],
   "source": [
    "conn.sql(\"\"\"\n",
    "         SELECT purchased_item_count, rewards_receipt_status FROM receipts\n",
    "         WHERE (rewards_receipt_status = 'FINISHED'\n",
    "                OR rewards_receipt_status = 'REJECTED')\n",
    "         AND (purchased_item_count IS NULL\n",
    "              OR purchased_item_count < 0)\n",
    "         \"\"\"\n",
    "         ).show()"
   ]
  },
  {
   "cell_type": "code",
   "execution_count": 8,
   "metadata": {},
   "outputs": [
    {
     "name": "stdout",
     "output_type": "stream",
     "text": [
      "The total number of items purchased is higher for FINISHED (Accepted) receipts.\n"
     ]
    },
    {
     "data": {
      "text/plain": [
       "┌───────────────────┬────────────────────────┐\n",
       "│ N_Items_Purchased │ rewards_receipt_status │\n",
       "│      int128       │        varchar         │\n",
       "├───────────────────┼────────────────────────┤\n",
       "│              8184 │ FINISHED               │\n",
       "│               173 │ REJECTED               │\n",
       "└───────────────────┴────────────────────────┘"
      ]
     },
     "execution_count": 8,
     "metadata": {},
     "output_type": "execute_result"
    }
   ],
   "source": [
    "print(f\"The total number of items purchased is higher for FINISHED (Accepted) receipts.\")\n",
    "conn.sql(\"\"\"\n",
    "         SELECT SUM(purchased_item_count) as N_Items_Purchased, rewards_receipt_status \n",
    "         FROM receipts\n",
    "         WHERE rewards_receipt_status = 'FINISHED'\n",
    "         OR rewards_receipt_status = 'REJECTED'\n",
    "         GROUP BY rewards_receipt_status\n",
    "         ORDER BY N_Items_Purchased DESC\n",
    "         \"\"\"\n",
    "         )"
   ]
  },
  {
   "cell_type": "markdown",
   "metadata": {},
   "source": [
    "# Which brand has the most spend among users who were created within the past 6 months?"
   ]
  },
  {
   "cell_type": "markdown",
   "metadata": {},
   "source": [
    "##### **Anchoring in 2025, no brands have any spend among users created within the past 6 months**"
   ]
  },
  {
   "cell_type": "code",
   "execution_count": 9,
   "metadata": {},
   "outputs": [
    {
     "data": {
      "text/plain": [
       "┌──────────┬──────────────┬─────────┬─────────┐\n",
       "│ _user_id │ created_date │ active  │  role   │\n",
       "│ varchar  │  timestamp   │ boolean │ varchar │\n",
       "├──────────┴──────────────┴─────────┴─────────┤\n",
       "│                   0 rows                    │\n",
       "└─────────────────────────────────────────────┘"
      ]
     },
     "execution_count": 9,
     "metadata": {},
     "output_type": "execute_result"
    }
   ],
   "source": [
    "conn.sql(\"\"\"\n",
    "         SELECT _user_id, created_date, active, role FROM users\n",
    "         WHERE created_date >= DATE_TRUNC('month', now()) - interval '6 month'\n",
    "         \"\"\"\n",
    "         )"
   ]
  },
  {
   "cell_type": "markdown",
   "metadata": {},
   "source": [
    "##### **Anchoring between 2020-09-01 and 2021-03-01, Ben and Jerry's has the most spend**\n",
    "+ Since the max date_scanned in the receipts json was 2021-03-01, I am chosing to anchor my answer as of March 2021."
   ]
  },
  {
   "cell_type": "code",
   "execution_count": 10,
   "metadata": {},
   "outputs": [
    {
     "data": {
      "text/plain": [
       "┌────────────────┬───────────────┐\n",
       "│   brand_code   │  total_spend  │\n",
       "│    varchar     │ decimal(38,2) │\n",
       "├────────────────┼───────────────┤\n",
       "│ BEN AND JERRYS │       1217.40 │\n",
       "└────────────────┴───────────────┘"
      ]
     },
     "execution_count": 10,
     "metadata": {},
     "output_type": "execute_result"
    }
   ],
   "source": [
    "# Should role = 'fetch-staff' be considered?\n",
    "# Should active = true be considered?\n",
    "# Where final_price is null, only user_flagged_price seems to be filled, should we fill?\n",
    "    # Doesn't matter this time\n",
    "conn.sql(\"\"\"    \n",
    "         WITH receipt_item_user_6mo AS (\n",
    "            SELECT brand_code, final_price, user_flagged_price, COALESCE(final_price, user_flagged_price) as filled_price\n",
    "            FROM receipt_items\n",
    "            WHERE receipt_items._user_id IN (\n",
    "                SELECT _user_id \n",
    "                FROM users\n",
    "                WHERE created_date <= '2021-03-01'\n",
    "                AND created_date >= '2020-09-01'\n",
    "            )\n",
    "         )\n",
    "         SELECT brand_code, ROUND(SUM(final_price::numeric), 2) as total_spend \n",
    "         FROM receipt_item_user_6mo\n",
    "         WHERE brand_code IS NOT NULL\n",
    "         GROUP BY brand_code\n",
    "         ORDER BY total_spend DESC\n",
    "         LIMIT 1\n",
    "\n",
    ";\"\"\"\n",
    ")"
   ]
  },
  {
   "cell_type": "markdown",
   "metadata": {},
   "source": [
    "# Which brand has the most transactions among users who were created within the past 6 months?\n",
    "##### **Brand code 'BRAND' has the most transactions among users created within the past 6 months**\n",
    "+ Assuming 1 receipt is 1 transaction; not 1 receipt_item is 1 transaction"
   ]
  },
  {
   "cell_type": "code",
   "execution_count": 11,
   "metadata": {},
   "outputs": [
    {
     "data": {
      "text/plain": [
       "┌────────────┬────────────────┐\n",
       "│ brand_code │ N_Transactions │\n",
       "│  varchar   │     int64      │\n",
       "├────────────┼────────────────┤\n",
       "│ BRAND      │             20 │\n",
       "└────────────┴────────────────┘"
      ]
     },
     "execution_count": 11,
     "metadata": {},
     "output_type": "execute_result"
    }
   ],
   "source": [
    "# Should role = 'fetch-staff' be considered?\n",
    "# Should active = true be considered?\n",
    "conn.sql(\"\"\"    \n",
    "         WITH receipt_item_user_6mo AS (\n",
    "            SELECT _receipt_id, brand_code\n",
    "            FROM receipt_items\n",
    "            WHERE receipt_items._user_id IN (\n",
    "                SELECT _user_id \n",
    "                FROM users\n",
    "                WHERE created_date <= '2021-03-01'\n",
    "                AND created_date >= '2020-09-01'\n",
    "            )\n",
    "         )\n",
    "         SELECT brand_code, COUNT(DISTINCT _receipt_id) as N_Transactions\n",
    "         FROM receipt_item_user_6mo\n",
    "         WHERE brand_code IS NOT NULL\n",
    "         GROUP BY brand_code\n",
    "         ORDER BY N_Transactions DESC\n",
    "         LIMIT 1\n",
    "\n",
    ";\"\"\"\n",
    ")"
   ]
  },
  {
   "cell_type": "code",
   "execution_count": 12,
   "metadata": {},
   "outputs": [],
   "source": [
    "conn.close()"
   ]
  }
 ],
 "metadata": {
  "kernelspec": {
   "display_name": ".venv",
   "language": "python",
   "name": "python3"
  },
  "language_info": {
   "codemirror_mode": {
    "name": "ipython",
    "version": 3
   },
   "file_extension": ".py",
   "mimetype": "text/x-python",
   "name": "python",
   "nbconvert_exporter": "python",
   "pygments_lexer": "ipython3",
   "version": "3.11.5"
  }
 },
 "nbformat": 4,
 "nbformat_minor": 2
}
